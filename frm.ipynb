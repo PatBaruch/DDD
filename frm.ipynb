{
 "cells": [
  {
   "cell_type": "markdown",
   "id": "841943e92eef55f5",
   "metadata": {},
   "source": [
    "<h1> All imports and functions </h1>"
   ]
  },
  {
   "cell_type": "code",
   "execution_count": 8,
   "id": "d84f295a84c99937",
   "metadata": {
    "ExecuteTime": {
     "end_time": "2025-02-17T12:30:00.167541Z",
     "start_time": "2025-02-17T12:30:00.158418Z"
    }
   },
   "outputs": [
    {
     "ename": "FileNotFoundError",
     "evalue": "[Errno 2] No such file or directory: 'set11__it1.csv'",
     "output_type": "error",
     "traceback": [
      "\u001b[0;31m---------------------------------------------------------------------------\u001b[0m",
      "\u001b[0;31mFileNotFoundError\u001b[0m                         Traceback (most recent call last)",
      "\u001b[1;32m/Users/pbaruch/Desktop/Year2/DataDrivenDevelopement/frm.ipynb Cell 2\u001b[0m line \u001b[0;36m8\n\u001b[1;32m      <a href='vscode-notebook-cell:/Users/pbaruch/Desktop/Year2/DataDrivenDevelopement/frm.ipynb#W1sZmlsZQ%3D%3D?line=4'>5</a>\u001b[0m \u001b[39mfrom\u001b[39;00m \u001b[39mcollections\u001b[39;00m \u001b[39mimport\u001b[39;00m Counter\n\u001b[1;32m      <a href='vscode-notebook-cell:/Users/pbaruch/Desktop/Year2/DataDrivenDevelopement/frm.ipynb#W1sZmlsZQ%3D%3D?line=5'>6</a>\u001b[0m \u001b[39mfrom\u001b[39;00m \u001b[39mfuzzywuzzy\u001b[39;00m \u001b[39mimport\u001b[39;00m process\n\u001b[0;32m----> <a href='vscode-notebook-cell:/Users/pbaruch/Desktop/Year2/DataDrivenDevelopement/frm.ipynb#W1sZmlsZQ%3D%3D?line=7'>8</a>\u001b[0m df \u001b[39m=\u001b[39m pd\u001b[39m.\u001b[39mread_csv(\u001b[39m'\u001b[39m\u001b[39mset11__it1.csv\u001b[39m\u001b[39m'\u001b[39m, sep\u001b[39m=\u001b[39m\u001b[39m'\u001b[39m\u001b[39m,\u001b[39m\u001b[39m'\u001b[39m)\n\u001b[1;32m     <a href='vscode-notebook-cell:/Users/pbaruch/Desktop/Year2/DataDrivenDevelopement/frm.ipynb#W1sZmlsZQ%3D%3D?line=9'>10</a>\u001b[0m RealmType \u001b[39m=\u001b[39m[\u001b[39m'\u001b[39m\u001b[39mRealmType\u001b[39m\u001b[39m'\u001b[39m]\n\u001b[1;32m     <a href='vscode-notebook-cell:/Users/pbaruch/Desktop/Year2/DataDrivenDevelopement/frm.ipynb#W1sZmlsZQ%3D%3D?line=10'>11</a>\u001b[0m Enclave \u001b[39m=\u001b[39m[\u001b[39m'\u001b[39m\u001b[39mEnclave\u001b[39m\u001b[39m'\u001b[39m]\n",
      "File \u001b[0;32m/opt/anaconda3/lib/python3.12/site-packages/pandas/io/parsers/readers.py:1026\u001b[0m, in \u001b[0;36mread_csv\u001b[0;34m(filepath_or_buffer, sep, delimiter, header, names, index_col, usecols, dtype, engine, converters, true_values, false_values, skipinitialspace, skiprows, skipfooter, nrows, na_values, keep_default_na, na_filter, verbose, skip_blank_lines, parse_dates, infer_datetime_format, keep_date_col, date_parser, date_format, dayfirst, cache_dates, iterator, chunksize, compression, thousands, decimal, lineterminator, quotechar, quoting, doublequote, escapechar, comment, encoding, encoding_errors, dialect, on_bad_lines, delim_whitespace, low_memory, memory_map, float_precision, storage_options, dtype_backend)\u001b[0m\n\u001b[1;32m   1013\u001b[0m kwds_defaults \u001b[39m=\u001b[39m _refine_defaults_read(\n\u001b[1;32m   1014\u001b[0m     dialect,\n\u001b[1;32m   1015\u001b[0m     delimiter,\n\u001b[0;32m   (...)\u001b[0m\n\u001b[1;32m   1022\u001b[0m     dtype_backend\u001b[39m=\u001b[39mdtype_backend,\n\u001b[1;32m   1023\u001b[0m )\n\u001b[1;32m   1024\u001b[0m kwds\u001b[39m.\u001b[39mupdate(kwds_defaults)\n\u001b[0;32m-> 1026\u001b[0m \u001b[39mreturn\u001b[39;00m _read(filepath_or_buffer, kwds)\n",
      "File \u001b[0;32m/opt/anaconda3/lib/python3.12/site-packages/pandas/io/parsers/readers.py:620\u001b[0m, in \u001b[0;36m_read\u001b[0;34m(filepath_or_buffer, kwds)\u001b[0m\n\u001b[1;32m    617\u001b[0m _validate_names(kwds\u001b[39m.\u001b[39mget(\u001b[39m\"\u001b[39m\u001b[39mnames\u001b[39m\u001b[39m\"\u001b[39m, \u001b[39mNone\u001b[39;00m))\n\u001b[1;32m    619\u001b[0m \u001b[39m# Create the parser.\u001b[39;00m\n\u001b[0;32m--> 620\u001b[0m parser \u001b[39m=\u001b[39m TextFileReader(filepath_or_buffer, \u001b[39m*\u001b[39m\u001b[39m*\u001b[39mkwds)\n\u001b[1;32m    622\u001b[0m \u001b[39mif\u001b[39;00m chunksize \u001b[39mor\u001b[39;00m iterator:\n\u001b[1;32m    623\u001b[0m     \u001b[39mreturn\u001b[39;00m parser\n",
      "File \u001b[0;32m/opt/anaconda3/lib/python3.12/site-packages/pandas/io/parsers/readers.py:1620\u001b[0m, in \u001b[0;36mTextFileReader.__init__\u001b[0;34m(self, f, engine, **kwds)\u001b[0m\n\u001b[1;32m   1617\u001b[0m     \u001b[39mself\u001b[39m\u001b[39m.\u001b[39moptions[\u001b[39m\"\u001b[39m\u001b[39mhas_index_names\u001b[39m\u001b[39m\"\u001b[39m] \u001b[39m=\u001b[39m kwds[\u001b[39m\"\u001b[39m\u001b[39mhas_index_names\u001b[39m\u001b[39m\"\u001b[39m]\n\u001b[1;32m   1619\u001b[0m \u001b[39mself\u001b[39m\u001b[39m.\u001b[39mhandles: IOHandles \u001b[39m|\u001b[39m \u001b[39mNone\u001b[39;00m \u001b[39m=\u001b[39m \u001b[39mNone\u001b[39;00m\n\u001b[0;32m-> 1620\u001b[0m \u001b[39mself\u001b[39m\u001b[39m.\u001b[39m_engine \u001b[39m=\u001b[39m \u001b[39mself\u001b[39m\u001b[39m.\u001b[39m_make_engine(f, \u001b[39mself\u001b[39m\u001b[39m.\u001b[39mengine)\n",
      "File \u001b[0;32m/opt/anaconda3/lib/python3.12/site-packages/pandas/io/parsers/readers.py:1880\u001b[0m, in \u001b[0;36mTextFileReader._make_engine\u001b[0;34m(self, f, engine)\u001b[0m\n\u001b[1;32m   1878\u001b[0m     \u001b[39mif\u001b[39;00m \u001b[39m\"\u001b[39m\u001b[39mb\u001b[39m\u001b[39m\"\u001b[39m \u001b[39mnot\u001b[39;00m \u001b[39min\u001b[39;00m mode:\n\u001b[1;32m   1879\u001b[0m         mode \u001b[39m+\u001b[39m\u001b[39m=\u001b[39m \u001b[39m\"\u001b[39m\u001b[39mb\u001b[39m\u001b[39m\"\u001b[39m\n\u001b[0;32m-> 1880\u001b[0m \u001b[39mself\u001b[39m\u001b[39m.\u001b[39mhandles \u001b[39m=\u001b[39m get_handle(\n\u001b[1;32m   1881\u001b[0m     f,\n\u001b[1;32m   1882\u001b[0m     mode,\n\u001b[1;32m   1883\u001b[0m     encoding\u001b[39m=\u001b[39m\u001b[39mself\u001b[39m\u001b[39m.\u001b[39moptions\u001b[39m.\u001b[39mget(\u001b[39m\"\u001b[39m\u001b[39mencoding\u001b[39m\u001b[39m\"\u001b[39m, \u001b[39mNone\u001b[39;00m),\n\u001b[1;32m   1884\u001b[0m     compression\u001b[39m=\u001b[39m\u001b[39mself\u001b[39m\u001b[39m.\u001b[39moptions\u001b[39m.\u001b[39mget(\u001b[39m\"\u001b[39m\u001b[39mcompression\u001b[39m\u001b[39m\"\u001b[39m, \u001b[39mNone\u001b[39;00m),\n\u001b[1;32m   1885\u001b[0m     memory_map\u001b[39m=\u001b[39m\u001b[39mself\u001b[39m\u001b[39m.\u001b[39moptions\u001b[39m.\u001b[39mget(\u001b[39m\"\u001b[39m\u001b[39mmemory_map\u001b[39m\u001b[39m\"\u001b[39m, \u001b[39mFalse\u001b[39;00m),\n\u001b[1;32m   1886\u001b[0m     is_text\u001b[39m=\u001b[39mis_text,\n\u001b[1;32m   1887\u001b[0m     errors\u001b[39m=\u001b[39m\u001b[39mself\u001b[39m\u001b[39m.\u001b[39moptions\u001b[39m.\u001b[39mget(\u001b[39m\"\u001b[39m\u001b[39mencoding_errors\u001b[39m\u001b[39m\"\u001b[39m, \u001b[39m\"\u001b[39m\u001b[39mstrict\u001b[39m\u001b[39m\"\u001b[39m),\n\u001b[1;32m   1888\u001b[0m     storage_options\u001b[39m=\u001b[39m\u001b[39mself\u001b[39m\u001b[39m.\u001b[39moptions\u001b[39m.\u001b[39mget(\u001b[39m\"\u001b[39m\u001b[39mstorage_options\u001b[39m\u001b[39m\"\u001b[39m, \u001b[39mNone\u001b[39;00m),\n\u001b[1;32m   1889\u001b[0m )\n\u001b[1;32m   1890\u001b[0m \u001b[39massert\u001b[39;00m \u001b[39mself\u001b[39m\u001b[39m.\u001b[39mhandles \u001b[39mis\u001b[39;00m \u001b[39mnot\u001b[39;00m \u001b[39mNone\u001b[39;00m\n\u001b[1;32m   1891\u001b[0m f \u001b[39m=\u001b[39m \u001b[39mself\u001b[39m\u001b[39m.\u001b[39mhandles\u001b[39m.\u001b[39mhandle\n",
      "File \u001b[0;32m/opt/anaconda3/lib/python3.12/site-packages/pandas/io/common.py:873\u001b[0m, in \u001b[0;36mget_handle\u001b[0;34m(path_or_buf, mode, encoding, compression, memory_map, is_text, errors, storage_options)\u001b[0m\n\u001b[1;32m    868\u001b[0m \u001b[39melif\u001b[39;00m \u001b[39misinstance\u001b[39m(handle, \u001b[39mstr\u001b[39m):\n\u001b[1;32m    869\u001b[0m     \u001b[39m# Check whether the filename is to be opened in binary mode.\u001b[39;00m\n\u001b[1;32m    870\u001b[0m     \u001b[39m# Binary mode does not support 'encoding' and 'newline'.\u001b[39;00m\n\u001b[1;32m    871\u001b[0m     \u001b[39mif\u001b[39;00m ioargs\u001b[39m.\u001b[39mencoding \u001b[39mand\u001b[39;00m \u001b[39m\"\u001b[39m\u001b[39mb\u001b[39m\u001b[39m\"\u001b[39m \u001b[39mnot\u001b[39;00m \u001b[39min\u001b[39;00m ioargs\u001b[39m.\u001b[39mmode:\n\u001b[1;32m    872\u001b[0m         \u001b[39m# Encoding\u001b[39;00m\n\u001b[0;32m--> 873\u001b[0m         handle \u001b[39m=\u001b[39m \u001b[39mopen\u001b[39m(\n\u001b[1;32m    874\u001b[0m             handle,\n\u001b[1;32m    875\u001b[0m             ioargs\u001b[39m.\u001b[39mmode,\n\u001b[1;32m    876\u001b[0m             encoding\u001b[39m=\u001b[39mioargs\u001b[39m.\u001b[39mencoding,\n\u001b[1;32m    877\u001b[0m             errors\u001b[39m=\u001b[39merrors,\n\u001b[1;32m    878\u001b[0m             newline\u001b[39m=\u001b[39m\u001b[39m\"\u001b[39m\u001b[39m\"\u001b[39m,\n\u001b[1;32m    879\u001b[0m         )\n\u001b[1;32m    880\u001b[0m     \u001b[39melse\u001b[39;00m:\n\u001b[1;32m    881\u001b[0m         \u001b[39m# Binary mode\u001b[39;00m\n\u001b[1;32m    882\u001b[0m         handle \u001b[39m=\u001b[39m \u001b[39mopen\u001b[39m(handle, ioargs\u001b[39m.\u001b[39mmode)\n",
      "\u001b[0;31mFileNotFoundError\u001b[0m: [Errno 2] No such file or directory: 'set11__it1.csv'"
     ]
    }
   ],
   "source": [
    "import pandas as pd\n",
    "import seaborn as sns\n",
    "import matplotlib.pyplot as plt\n",
    "from tabulate import tabulate\n",
    "from collections import Counter\n",
    "from fuzzywuzzy import process\n",
    "\n",
    "df = pd.read_csv('set11__it1.csv', sep=',')\n",
    "\n",
    "RealmType =['RealmType']\n",
    "Enclave =['Enclave']"
   ]
  },
  {
   "cell_type": "markdown",
   "id": "7eba1a6d4a204332",
   "metadata": {},
   "source": [
    "<h1> Wrongly named Enclaves"
   ]
  },
  {
   "cell_type": "markdown",
   "id": "2293d449f1a751f8",
   "metadata": {},
   "source": [
    "<h3>Check for unique Enclave names"
   ]
  },
  {
   "cell_type": "markdown",
   "id": "3129621849f44bf1",
   "metadata": {},
   "source": [
    "I made an function that checks for how many unique Enclave names there are and if there are any duplicate yet similiar names."
   ]
  },
  {
   "cell_type": "code",
   "execution_count": null,
   "id": "38c1e25b3ecbb7e8",
   "metadata": {
    "ExecuteTime": {
     "end_time": "2025-02-17T12:30:00.179087Z",
     "start_time": "2025-02-17T12:30:00.173568Z"
    }
   },
   "outputs": [
    {
     "data": {
      "text/plain": [
       "array(['Brightforge', 'Petalbridge', 'Shadowmere', 'Dragonspire',\n",
       "       'Thornfield', 'Wyverncliff', 'Ravenstone', 'Starfall', 'Riverbend',\n",
       "       'Emberfall', 'Sunspire', 'Silverglen', 'Duskwood', 'Stormwatch',\n",
       "       'Mystvale', 'Cloudrest', 'Windwhisper', 'Nighthaven',\n",
       "       'Glimmerwood', 'Crystalhollow', 'Wolfsbane', 'petalbridge',\n",
       "       'Mossheart', 'Mosshearts', 'Stormhold', 'STORMWATCH',\n",
       "       'Dreamweaver', 'Oakenshade', 'STORMHOLD', 'Moonglade', 'emberfall',\n",
       "       'RAVENSTONE', 'DRAGONSPIRE', 'SUNSPIRE', 'THORNFIELD', 'Verdantia',\n",
       "       'MOSSHEART', 'wyverncliff', 'silverglen', 'sunspire',\n",
       "       'Crystalhollows', 'SILVERGLEN', 'Sunspires', 'crystalhollow',\n",
       "       'Dragonspires', 'starfall', 'Petalbridges', 'duskwood',\n",
       "       'Windwhispers'], dtype=object)"
      ]
     },
     "execution_count": 19,
     "metadata": {},
     "output_type": "execute_result"
    }
   ],
   "source": [
    "df[\"Enclave\"].unique()"
   ]
  },
  {
   "cell_type": "markdown",
   "id": "978fa9ddc38b4477",
   "metadata": {},
   "source": [
    "<h3>Bar plot for visualisation of the unique Enclave names"
   ]
  },
  {
   "cell_type": "markdown",
   "id": "e3d7dffd328559e8",
   "metadata": {},
   "source": [
    "I made a bar plot to see which names are most commonly used so that the outliers can be filtered out and changed to the most common name as this clears ups the data."
   ]
  },
  {
   "cell_type": "code",
   "execution_count": null,
   "id": "7ab33ea9c11d0f90",
   "metadata": {
    "ExecuteTime": {
     "end_time": "2025-02-17T12:30:00.620823Z",
     "start_time": "2025-02-17T12:30:00.216962Z"
    }
   },
   "outputs": [
    {
     "data": {
      "image/png": "[encoded data removed]",
      "text/plain": [
       "<Figure size 800x800 with 1 Axes>"
      ]
     },
     "metadata": {},
     "output_type": "display_data"
    }
   ],
   "source": [
    "\n",
    "plt.figure(figsize=(8, 8))\n",
    "\n",
    "# Sort enclaves alphabetically and ignoring upper or lower case as this makes it easier to see the same yet different spelled names.\n",
    "sorted_counts = df[\"Enclave\"].value_counts().rename_axis(\"Enclave\").reset_index()\n",
    "sorted_counts = sorted_counts.sort_values(by=\"Enclave\", key=lambda x: x.str.lower())\n",
    "\n",
    "sns.barplot(x=sorted_counts[\"count\"], y=sorted_counts[\"Enclave\"])\n",
    "\n",
    "plt.yticks(fontsize=10, rotation=0)\n",
    "plt.tight_layout()\n",
    "\n",
    "plt.show()\n"
   ]
  },
  {
   "cell_type": "markdown",
   "id": "d8913453dd9da75a",
   "metadata": {},
   "source": [
    "<h3>Replacement of wrongly named Enclaves"
   ]
  },
  {
   "cell_type": "markdown",
   "id": "caf0cbc95ef5f8b1",
   "metadata": {},
   "source": [
    "Filter out the wrong named data entry so its id and original name can be noted down and the update can be put in."
   ]
  },
  {
   "cell_type": "code",
   "execution_count": null,
   "id": "235304fda931f413",
   "metadata": {
    "ExecuteTime": {
     "end_time": "2025-02-17T12:30:00.669302Z",
     "start_time": "2025-02-17T12:30:00.634589Z"
    }
   },
   "outputs": [
    {
     "name": "stdout",
     "output_type": "stream",
     "text": [
      "\n",
      "--- Name Counts ---\n",
      "Brightforge: 101\n",
      "Petalbridge: 189\n",
      "Shadowmere: 158\n",
      "Dragonspire: 356\n",
      "Thornfield: 81\n",
      "Wyverncliff: 147\n",
      "Ravenstone: 56\n",
      "Starfall: 25\n",
      "Riverbend: 43\n",
      "Emberfall: 117\n",
      "Sunspire: 213\n",
      "Silverglen: 132\n",
      "Duskwood: 136\n",
      "Stormwatch: 88\n",
      "Mystvale: 72\n",
      "Cloudrest: 18\n",
      "Windwhisper: 36\n",
      "Nighthaven: 103\n",
      "Glimmerwood: 56\n",
      "Crystalhollow: 87\n",
      "Wolfsbane: 30\n",
      "petalbridge: 2\n",
      "Mossheart: 17\n",
      "Mosshearts: 1\n",
      "Stormhold: 39\n",
      "STORMWATCH: 1\n",
      "Dreamweaver: 23\n",
      "Oakenshade: 9\n",
      "STORMHOLD: 1\n",
      "Moonglade: 2\n",
      "emberfall: 1\n",
      "RAVENSTONE: 1\n",
      "DRAGONSPIRE: 1\n",
      "SUNSPIRE: 1\n",
      "THORNFIELD: 1\n",
      "Verdantia: 6\n",
      "MOSSHEART: 1\n",
      "wyverncliff: 1\n",
      "silverglen: 1\n",
      "sunspire: 1\n",
      "Crystalhollows: 1\n",
      "SILVERGLEN: 1\n",
      "Sunspires: 1\n",
      "crystalhollow: 1\n",
      "Dragonspires: 1\n",
      "starfall: 1\n",
      "Petalbridges: 1\n",
      "duskwood: 1\n",
      "Windwhispers: 1\n",
      "\n",
      "--- End of Name Counts ---\n",
      "\n",
      "No match found for 'Dragonspire', using as standard.\n",
      "No match found for 'Sunspire', using as standard.\n",
      "No match found for 'Petalbridge', using as standard.\n",
      "No match found for 'Shadowmere', using as standard.\n",
      "No match found for 'Wyverncliff', using as standard.\n",
      "No match found for 'Duskwood', using as standard.\n",
      "No match found for 'Silverglen', using as standard.\n",
      "No match found for 'Emberfall', using as standard.\n",
      "No match found for 'Nighthaven', using as standard.\n",
      "No match found for 'Brightforge', using as standard.\n",
      "No match found for 'Stormwatch', using as standard.\n",
      "No match found for 'Crystalhollow', using as standard.\n",
      "No match found for 'Thornfield', using as standard.\n",
      "No match found for 'Mystvale', using as standard.\n",
      "No match found for 'Ravenstone', using as standard.\n",
      "No match found for 'Glimmerwood', using as standard.\n",
      "No match found for 'Riverbend', using as standard.\n",
      "No match found for 'Stormhold', using as standard.\n",
      "No match found for 'Windwhisper', using as standard.\n",
      "No match found for 'Wolfsbane', using as standard.\n",
      "No match found for 'Starfall', using as standard.\n",
      "No match found for 'Dreamweaver', using as standard.\n",
      "No match found for 'Cloudrest', using as standard.\n",
      "No match found for 'Mossheart', using as standard.\n",
      "No match found for 'Oakenshade', using as standard.\n",
      "No match found for 'Verdantia', using as standard.\n",
      "Match found for 'petalbridge': 'Petalbridge' with score 100\n",
      "No match found for 'Moonglade', using as standard.\n",
      "Match found for 'Mosshearts': 'Mossheart' with score 95\n",
      "Match found for 'STORMWATCH': 'Stormwatch' with score 100\n",
      "Match found for 'STORMHOLD': 'Stormhold' with score 100\n",
      "Match found for 'emberfall': 'Emberfall' with score 100\n",
      "Match found for 'RAVENSTONE': 'Ravenstone' with score 100\n",
      "Match found for 'DRAGONSPIRE': 'Dragonspire' with score 100\n",
      "Match found for 'SUNSPIRE': 'Sunspire' with score 100\n",
      "Match found for 'THORNFIELD': 'Thornfield' with score 100\n",
      "Match found for 'MOSSHEART': 'Mossheart' with score 100\n",
      "Match found for 'wyverncliff': 'Wyverncliff' with score 100\n",
      "Match found for 'silverglen': 'Silverglen' with score 100\n",
      "Match found for 'sunspire': 'Sunspire' with score 100\n",
      "Match found for 'Crystalhollows': 'Crystalhollow' with score 96\n",
      "Match found for 'SILVERGLEN': 'Silverglen' with score 100\n",
      "Match found for 'Sunspires': 'Sunspire' with score 94\n",
      "Match found for 'crystalhollow': 'Crystalhollow' with score 100\n",
      "Match found for 'Dragonspires': 'Dragonspire' with score 96\n",
      "Match found for 'starfall': 'Starfall' with score 100\n",
      "Match found for 'Petalbridges': 'Petalbridge' with score 96\n",
      "Match found for 'duskwood': 'Duskwood' with score 100\n",
      "Match found for 'Windwhispers': 'Windwhisper' with score 96\n",
      "\n",
      "--- Standardized Names ---\n",
      "'Dragonspire' => 'Dragonspire'\n",
      "'Sunspire' => 'Sunspire'\n",
      "'Petalbridge' => 'Petalbridge'\n",
      "'Shadowmere' => 'Shadowmere'\n",
      "'Wyverncliff' => 'Wyverncliff'\n",
      "'Duskwood' => 'Duskwood'\n",
      "'Silverglen' => 'Silverglen'\n",
      "'Emberfall' => 'Emberfall'\n",
      "'Nighthaven' => 'Nighthaven'\n",
      "'Brightforge' => 'Brightforge'\n",
      "'Stormwatch' => 'Stormwatch'\n",
      "'Crystalhollow' => 'Crystalhollow'\n",
      "'Thornfield' => 'Thornfield'\n",
      "'Mystvale' => 'Mystvale'\n",
      "'Ravenstone' => 'Ravenstone'\n",
      "'Glimmerwood' => 'Glimmerwood'\n",
      "'Riverbend' => 'Riverbend'\n",
      "'Stormhold' => 'Stormhold'\n",
      "'Windwhisper' => 'Windwhisper'\n",
      "'Wolfsbane' => 'Wolfsbane'\n",
      "'Starfall' => 'Starfall'\n",
      "'Dreamweaver' => 'Dreamweaver'\n",
      "'Cloudrest' => 'Cloudrest'\n",
      "'Mossheart' => 'Mossheart'\n",
      "'Oakenshade' => 'Oakenshade'\n",
      "'Verdantia' => 'Verdantia'\n",
      "'petalbridge' => 'Petalbridge'\n",
      "'Moonglade' => 'Moonglade'\n",
      "'Mosshearts' => 'Mossheart'\n",
      "'STORMWATCH' => 'Stormwatch'\n",
      "'STORMHOLD' => 'Stormhold'\n",
      "'emberfall' => 'Emberfall'\n",
      "'RAVENSTONE' => 'Ravenstone'\n",
      "'DRAGONSPIRE' => 'Dragonspire'\n",
      "'SUNSPIRE' => 'Sunspire'\n",
      "'THORNFIELD' => 'Thornfield'\n",
      "'MOSSHEART' => 'Mossheart'\n",
      "'wyverncliff' => 'Wyverncliff'\n",
      "'silverglen' => 'Silverglen'\n",
      "'sunspire' => 'Sunspire'\n",
      "'Crystalhollows' => 'Crystalhollow'\n",
      "'SILVERGLEN' => 'Silverglen'\n",
      "'Sunspires' => 'Sunspire'\n",
      "'crystalhollow' => 'Crystalhollow'\n",
      "'Dragonspires' => 'Dragonspire'\n",
      "'starfall' => 'Starfall'\n",
      "'Petalbridges' => 'Petalbridge'\n",
      "'duskwood' => 'Duskwood'\n",
      "'Windwhispers' => 'Windwhisper'\n",
      "\n",
      "--- End of Standardized Names ---\n",
      "\n"
     ]
    }
   ],
   "source": [
    "def standardize_enclaves(enclaves):\n",
    "    # Count occurrences (case-insensitive)\n",
    "    name_counts = Counter(enclaves)\n",
    "    print(\"\\n--- Name Counts ---\")\n",
    "    for name, count in name_counts.items():\n",
    "        print(f\"{name}: {count}\")\n",
    "    print(\"\\n--- End of Name Counts ---\\n\")\n",
    "\n",
    "    # Find the most common variant (keeping original casing)\n",
    "    standardized_names = {}\n",
    "    most_common_variants = {}\n",
    "\n",
    "    # Sort names by frequency (most common first)\n",
    "    sorted_names = sorted(name_counts.keys(), key=lambda k: -name_counts[k])\n",
    "\n",
    "    # Find best match among already processed names\n",
    "    for name in sorted_names:\n",
    "        match_result = process.extractOne(name, most_common_variants.keys(), score_cutoff=85)\n",
    "\n",
    "        if match_result:\n",
    "            match, score = match_result\n",
    "            print(f\"Match found for '{name}': '{match}' with score {score}\")\n",
    "            standardized_names[name] = most_common_variants[match]\n",
    "        else:\n",
    "            print(f\"No match found for '{name}', using as standard.\")\n",
    "            standardized_names[name] = name\n",
    "\n",
    "        # Store as a new variant\n",
    "        most_common_variants[name] = name\n",
    "\n",
    "    print(\"\\n--- Standardized Names ---\")\n",
    "    for name, standard in standardized_names.items():\n",
    "        print(f\"'{name}' => '{standard}'\")\n",
    "    print(\"\\n--- End of Standardized Names ---\\n\")\n",
    "\n",
    "    # Replace each name in the original list with the standardized version\n",
    "    standardized_enclaves = [standardized_names.get(name, name) for name in enclaves]\n",
    "\n",
    "    return standardized_enclaves\n",
    "\n",
    "df['Enclave'] = standardize_enclaves(df['Enclave'])\n",
    "#df.to_csv(\"dataset11_2.csv\", index=False)\n"
   ]
  },
  {
   "cell_type": "markdown",
   "id": "e684d46e3039cc70",
   "metadata": {},
   "source": [
    "<H3>Checking if the Enclave names are now correct"
   ]
  },
  {
   "cell_type": "markdown",
   "id": "ac462736f26c6248",
   "metadata": {},
   "source": [
    "A bar plot is used again to check if the standardisation of the enclave names has gone correctly and that there are no deviations from the most common name."
   ]
  },
  {
   "cell_type": "code",
   "execution_count": null,
   "id": "635a837cda102181",
   "metadata": {
    "ExecuteTime": {
     "end_time": "2025-02-17T12:30:00.970855Z",
     "start_time": "2025-02-17T12:30:00.695709Z"
    }
   },
   "outputs": [
    {
     "data": {
      "image/png": "[encoded data removed]",
      "text/plain": [
       "<Figure size 800x800 with 1 Axes>"
      ]
     },
     "metadata": {},
     "output_type": "display_data"
    }
   ],
   "source": [
    "plt.figure(figsize=(8, 8))\n",
    "\n",
    "# Sort enclaves alphabetically and ignoring upper or lower case as this makes it easier to see the same yet different spelled names.\n",
    "sorted_counts = df[\"Enclave\"].value_counts().rename_axis(\"Enclave\").reset_index()\n",
    "sorted_counts = sorted_counts.sort_values(by=\"Enclave\", key=lambda x: x.str.lower())\n",
    "\n",
    "sns.barplot(x=sorted_counts[\"count\"], y=sorted_counts[\"Enclave\"])\n",
    "\n",
    "plt.yticks(fontsize=10, rotation=0)\n",
    "plt.tight_layout()\n",
    "\n",
    "plt.show()"
   ]
  },
  {
   "cell_type": "markdown",
   "id": "84b9946245cfab91",
   "metadata": {},
   "source": [
    "<h1>Realm types"
   ]
  },
  {
   "cell_type": "markdown",
   "id": "de5df2d927733206",
   "metadata": {},
   "source": [
    "<h3>Unique Realm types"
   ]
  },
  {
   "cell_type": "markdown",
   "id": "6b332d94b886360d",
   "metadata": {},
   "source": [
    "Check for unique Realm types (AN ENCLAVE MAY HAVE MORE THAN ONE REALM TYPE, WHAT DOES THIS MEAN??)"
   ]
  },
  {
   "cell_type": "code",
   "execution_count": null,
   "id": "f074f89d13d7acc0",
   "metadata": {
    "ExecuteTime": {
     "end_time": "2025-02-17T12:30:00.983426Z",
     "start_time": "2025-02-17T12:30:00.977813Z"
    }
   },
   "outputs": [
    {
     "data": {
      "text/plain": [
       "array(['Meadowlands', 'GnomeBurough', 'AetherIsles', 'CitadelQuarter',\n",
       "       'ArcaneMarket'], dtype=object)"
      ]
     },
     "execution_count": 23,
     "metadata": {},
     "output_type": "execute_result"
    }
   ],
   "source": [
    "df[\"RealmType\"].unique()"
   ]
  },
  {
   "cell_type": "markdown",
   "id": "19038b5b11d479d3",
   "metadata": {},
   "source": [
    "<h3>Enclaves that have more than one Realm type"
   ]
  },
  {
   "cell_type": "markdown",
   "id": "b95bf692a266a733",
   "metadata": {},
   "source": [
    "This cell checks which enclave has more than one realm as this may not be possible and a fix could be used to restore data quality."
   ]
  },
  {
   "cell_type": "code",
   "execution_count": null,
   "id": "17f4ebfb2b889ebc",
   "metadata": {
    "ExecuteTime": {
     "end_time": "2025-02-17T12:30:01.026603Z",
     "start_time": "2025-02-17T12:30:01.020021Z"
    }
   },
   "outputs": [
    {
     "name": "stdout",
     "output_type": "stream",
     "text": [
      "Enclaves with multiple Realm types:\n",
      "Brightforge: 2 unique Realm types\n",
      "Crystalhollow: 2 unique Realm types\n",
      "Dragonspire: 2 unique Realm types\n",
      "Dreamweaver: 2 unique Realm types\n",
      "Emberfall: 2 unique Realm types\n",
      "Mystvale: 2 unique Realm types\n",
      "Petalbridge: 2 unique Realm types\n",
      "Shadowmere: 3 unique Realm types\n",
      "Silverglen: 2 unique Realm types\n",
      "Stormhold: 3 unique Realm types\n",
      "Stormwatch: 2 unique Realm types\n",
      "Sunspire: 2 unique Realm types\n",
      "Thornfield: 3 unique Realm types\n",
      "Wyverncliff: 2 unique Realm types\n",
      "\n",
      "Total enclaves with multiple Realm types: 14\n"
     ]
    }
   ],
   "source": [
    "multiple_realms = df.groupby(\"Enclave\")[\"RealmType\"].nunique()\n",
    "\n",
    "filtered_enclaves = multiple_realms[multiple_realms > 1]\n",
    "\n",
    "print(\"Enclaves with multiple Realm types:\")\n",
    "for enclave in filtered_enclaves.index:\n",
    "    print(f\"{enclave}: {filtered_enclaves[enclave]} unique Realm types\")\n",
    "\n",
    "print(\"\\nTotal enclaves with multiple Realm types:\", len(filtered_enclaves))\n"
   ]
  },
  {
   "cell_type": "markdown",
   "id": "f559d72966b372e8",
   "metadata": {},
   "source": [
    "<h3>Updating values of Enclaves related to Realm types"
   ]
  },
  {
   "cell_type": "markdown",
   "id": "d019b31fe6e4029e",
   "metadata": {},
   "source": [
    "Since one enclave can only have one realm type, the enclaves that have more than one realm type have to be updated. For this I determined which Realm type was most used or most common within an Enclave and I updated the Enclave accordingly."
   ]
  },
  {
   "cell_type": "code",
   "execution_count": null,
   "id": "58454c5978ab28e",
   "metadata": {
    "ExecuteTime": {
     "end_time": "2025-02-17T12:30:01.173852Z",
     "start_time": "2025-02-17T12:30:01.147561Z"
    }
   },
   "outputs": [
    {
     "name": "stdout",
     "output_type": "stream",
     "text": [
      "\n",
      "Problem Enclaves (more than 1 unique Realm Type):\n",
      "Index(['Brightforge', 'Crystalhollow', 'Dragonspire', 'Dreamweaver',\n",
      "       'Emberfall', 'Mystvale', 'Petalbridge', 'Shadowmere', 'Silverglen',\n",
      "       'Stormhold', 'Stormwatch', 'Sunspire', 'Thornfield', 'Wyverncliff'],\n",
      "      dtype='object', name='Enclave')\n",
      "\n",
      "Enclave: Brightforge\n",
      "Most common Realm Type for Brightforge: Meadowlands\n",
      "Updated Realm Types for Enclave: Brightforge\n",
      "\n",
      "Enclave: Crystalhollow\n",
      "Most common Realm Type for Crystalhollow: Meadowlands\n",
      "Updated Realm Types for Enclave: Crystalhollow\n",
      "\n",
      "Enclave: Dragonspire\n",
      "Most common Realm Type for Dragonspire: Meadowlands\n",
      "Updated Realm Types for Enclave: Dragonspire\n",
      "\n",
      "Enclave: Dreamweaver\n",
      "Most common Realm Type for Dreamweaver: Meadowlands\n",
      "Updated Realm Types for Enclave: Dreamweaver\n",
      "\n",
      "Enclave: Emberfall\n",
      "Most common Realm Type for Emberfall: Meadowlands\n",
      "Updated Realm Types for Enclave: Emberfall\n",
      "\n",
      "Enclave: Mystvale\n",
      "Most common Realm Type for Mystvale: GnomeBurough\n",
      "Updated Realm Types for Enclave: Mystvale\n",
      "\n",
      "Enclave: Petalbridge\n",
      "Most common Realm Type for Petalbridge: GnomeBurough\n",
      "Updated Realm Types for Enclave: Petalbridge\n",
      "\n",
      "Enclave: Shadowmere\n",
      "Most common Realm Type for Shadowmere: Meadowlands\n",
      "Updated Realm Types for Enclave: Shadowmere\n",
      "\n",
      "Enclave: Silverglen\n",
      "Most common Realm Type for Silverglen: Meadowlands\n",
      "Updated Realm Types for Enclave: Silverglen\n",
      "\n",
      "Enclave: Stormhold\n",
      "Most common Realm Type for Stormhold: Meadowlands\n",
      "Updated Realm Types for Enclave: Stormhold\n",
      "\n",
      "Enclave: Stormwatch\n",
      "Most common Realm Type for Stormwatch: GnomeBurough\n",
      "Updated Realm Types for Enclave: Stormwatch\n",
      "\n",
      "Enclave: Sunspire\n",
      "Most common Realm Type for Sunspire: Meadowlands\n",
      "Updated Realm Types for Enclave: Sunspire\n",
      "\n",
      "Enclave: Thornfield\n",
      "Most common Realm Type for Thornfield: Meadowlands\n",
      "Updated Realm Types for Enclave: Thornfield\n",
      "\n",
      "Enclave: Wyverncliff\n",
      "Most common Realm Type for Wyverncliff: AetherIsles\n",
      "Updated Realm Types for Enclave: Wyverncliff\n"
     ]
    }
   ],
   "source": [
    "def fix_enclave_realm_type(dataframe):\n",
    "\n",
    "    # Step 1: Group by Enclave and count unique Realm Types.\n",
    "    unique_realm_types = dataframe.groupby('Enclave')['RealmType'].nunique()\n",
    "\n",
    "    # Step 2: Find which Enclaves have more than 1 unique Realm Type.\n",
    "    problem_enclaves = unique_realm_types[unique_realm_types > 1].index\n",
    "    print(\"\\nProblem Enclaves (more than 1 unique Realm Type):\")\n",
    "    print(problem_enclaves)\n",
    "\n",
    "    # Step 3: For each wrong Enclave, find the most common Realm Type.\n",
    "    for enclaves in problem_enclaves:\n",
    "        print(f\"\\nEnclave: {enclaves}\")\n",
    "\n",
    "        # Find the most common Realm Type for this Enclave.\n",
    "        realm_types_for_enclave = dataframe[dataframe['Enclave'] == enclaves]['RealmType']\n",
    "        most_common_realm_type = realm_types_for_enclave.mode()[0]\n",
    "        print(f\"Most common Realm Type for {enclaves}: {most_common_realm_type}\")\n",
    "\n",
    "        # Step 4: Update the Realm Type for these Enclaves.\n",
    "        dataframe.loc[dataframe['Enclave'] == enclaves, 'RealmType'] = most_common_realm_type\n",
    "        print(f\"Updated Realm Types for Enclave: {enclaves}\")\n",
    "\n",
    "    return dataframe\n",
    "df = fix_enclave_realm_type(df)"
   ]
  },
  {
   "cell_type": "markdown",
   "id": "8470081f9dba95f3",
   "metadata": {},
   "source": [
    "<h3>Checking again"
   ]
  },
  {
   "cell_type": "markdown",
   "id": "a8568be6ccd85d06",
   "metadata": {},
   "source": [
    "By checking again for Enclaves that have multiple realms we make sure that there are no mistakes left behind."
   ]
  },
  {
   "cell_type": "code",
   "execution_count": null,
   "id": "e3bacc85f2cea1e6",
   "metadata": {
    "ExecuteTime": {
     "end_time": "2025-02-17T12:30:01.260562Z",
     "start_time": "2025-02-17T12:30:01.254294Z"
    }
   },
   "outputs": [
    {
     "name": "stdout",
     "output_type": "stream",
     "text": [
      "Enclaves with multiple RealmTypes:\n",
      "\n",
      "Total enclaves with multiple RealmTypes: 0\n"
     ]
    }
   ],
   "source": [
    "multiple_realms = df.groupby(\"Enclave\")[\"RealmType\"].nunique()\n",
    "\n",
    "filtered_enclaves = multiple_realms[multiple_realms > 1]\n",
    "\n",
    "print(\"Enclaves with multiple RealmTypes:\")\n",
    "for enclave in filtered_enclaves.index:\n",
    "    print(f\"{enclave}: {filtered_enclaves[enclave]} unique RealmTypes\")\n",
    "\n",
    "print(\"\\nTotal enclaves with multiple RealmTypes:\", len(filtered_enclaves))"
   ]
  },
  {
   "cell_type": "markdown",
   "id": "9ecb1735556a9e2f",
   "metadata": {},
   "source": [
    "<h1>Negative values"
   ]
  },
  {
   "cell_type": "markdown",
   "id": "c99843513e20ade5",
   "metadata": {},
   "source": [
    "<h3>Negative Parcel size"
   ]
  },
  {
   "cell_type": "markdown",
   "id": "c492533e3886e6db",
   "metadata": {},
   "source": [
    "Checks for inconsistencies where the Parcel Size is negative + adds the total counts where this happens and the id of the row."
   ]
  },
  {
   "cell_type": "code",
   "execution_count": null,
   "id": "72133172a34f9a45",
   "metadata": {
    "ExecuteTime": {
     "end_time": "2025-02-17T12:30:01.304875Z",
     "start_time": "2025-02-17T12:30:01.299398Z"
    }
   },
   "outputs": [
    {
     "data": {
      "text/plain": [
       "np.int64(11)"
      ]
     },
     "execution_count": 27,
     "metadata": {},
     "output_type": "execute_result"
    }
   ],
   "source": [
    "s1 = df['ParcelSize'] > 0\n",
    "s1 = ~s1\n",
    "s1.sum()"
   ]
  },
  {
   "cell_type": "markdown",
   "id": "d02926d2b6c1424a",
   "metadata": {},
   "source": [
    "Also checks but in a different way."
   ]
  },
  {
   "cell_type": "code",
   "execution_count": null,
   "id": "d043f997eb8ba75",
   "metadata": {
    "ExecuteTime": {
     "end_time": "2025-02-17T12:30:01.353318Z",
     "start_time": "2025-02-17T12:30:01.346746Z"
    }
   },
   "outputs": [
    {
     "name": "stdout",
     "output_type": "stream",
     "text": [
      "Rows where 'ParcelSize' is less than 0.':\n",
      "+--------+------------+\n",
      "|   DI   | ParcelSize |\n",
      "+--------+------------+\n",
      "| 492.0  |  -11367.0  |\n",
      "| 742.0  |  -9900.0   |\n",
      "| 865.0  |  -8050.0   |\n",
      "| 1160.0 |  -12633.0  |\n",
      "| 1275.0 |  -7993.0   |\n",
      "| 1356.0 |  -8982.0   |\n",
      "| 1557.0 |  -8923.0   |\n",
      "| 1746.0 |  -13070.0  |\n",
      "| 1754.0 |  -14157.0  |\n",
      "| 1911.0 |  -14145.0  |\n",
      "| 2123.0 |  -4224.0   |\n",
      "+--------+------------+\n",
      "\n",
      "Total count: 11\n"
     ]
    }
   ],
   "source": [
    "PS = df['ParcelSize']\n",
    "\n",
    "wrong_data = df[PS < 0 ]\n",
    "\n",
    "wrong_data = wrong_data[['DI', 'ParcelSize']]\n",
    "\n",
    "\n",
    "print(\"Rows where 'ParcelSize' is less than 0.':\")\n",
    "print(tabulate(wrong_data, headers='keys', tablefmt='pretty', showindex=False))\n",
    "print(f\"\\nTotal count: {len(wrong_data)}\")\n"
   ]
  },
  {
   "cell_type": "markdown",
   "id": "e6b8fda2f14415b5",
   "metadata": {},
   "source": [
    "<h1> Duplicate data"
   ]
  },
  {
   "cell_type": "markdown",
   "id": "2714261bc366e201",
   "metadata": {},
   "source": [
    "<h3> Finding the duplicate entries"
   ]
  },
  {
   "cell_type": "markdown",
   "id": "4f3a1c50b011da5b",
   "metadata": {},
   "source": [
    "This cell checks whether there is duplicate data."
   ]
  },
  {
   "cell_type": "code",
   "execution_count": null,
   "id": "e1205343380394a5",
   "metadata": {
    "ExecuteTime": {
     "end_time": "2025-02-17T12:30:01.411734Z",
     "start_time": "2025-02-17T12:30:01.393577Z"
    }
   },
   "outputs": [
    {
     "data": {
      "text/html": [
       "<div>\n",
       "<style scoped>\n",
       "    .dataframe tbody tr th:only-of-type {\n",
       "        vertical-align: middle;\n",
       "    }\n",
       "\n",
       "    .dataframe tbody tr th {\n",
       "        vertical-align: top;\n",
       "    }\n",
       "\n",
       "    .dataframe thead th {\n",
       "        text-align: right;\n",
       "    }\n",
       "</style>\n",
       "<table border=\"1\" class=\"dataframe\">\n",
       "  <thead>\n",
       "    <tr style=\"text-align: right;\">\n",
       "      <th></th>\n",
       "      <th>DI</th>\n",
       "      <th>TradeValue</th>\n",
       "      <th>RealmType</th>\n",
       "      <th>Enclave</th>\n",
       "      <th>LivingQuarters</th>\n",
       "      <th>ParcelSize</th>\n",
       "      <th>ParcelSizeUnit</th>\n",
       "    </tr>\n",
       "  </thead>\n",
       "  <tbody>\n",
       "    <tr>\n",
       "      <th>64</th>\n",
       "      <td>63</td>\n",
       "      <td>189000.0</td>\n",
       "      <td>Meadowlands</td>\n",
       "      <td>Brightforge</td>\n",
       "      <td>1419.0</td>\n",
       "      <td>11218.0</td>\n",
       "      <td>sqft</td>\n",
       "    </tr>\n",
       "    <tr>\n",
       "      <th>152</th>\n",
       "      <td>150</td>\n",
       "      <td>260000.0</td>\n",
       "      <td>AetherIsles</td>\n",
       "      <td>Wyverncliff</td>\n",
       "      <td>1144.0</td>\n",
       "      <td>4835.0</td>\n",
       "      <td>sqft</td>\n",
       "    </tr>\n",
       "    <tr>\n",
       "      <th>155</th>\n",
       "      <td>152</td>\n",
       "      <td>246000.0</td>\n",
       "      <td>Meadowlands</td>\n",
       "      <td>Thornfield</td>\n",
       "      <td>1266.0</td>\n",
       "      <td>3811.0</td>\n",
       "      <td>sqft</td>\n",
       "    </tr>\n",
       "    <tr>\n",
       "      <th>217</th>\n",
       "      <td>213</td>\n",
       "      <td>142000.0</td>\n",
       "      <td>Meadowlands</td>\n",
       "      <td>Dragonspire</td>\n",
       "      <td>887.0</td>\n",
       "      <td>11556.0</td>\n",
       "      <td>sqft</td>\n",
       "    </tr>\n",
       "    <tr>\n",
       "      <th>264</th>\n",
       "      <td>259</td>\n",
       "      <td>171500.0</td>\n",
       "      <td>Meadowlands</td>\n",
       "      <td>Duskwood</td>\n",
       "      <td>1031.0</td>\n",
       "      <td>10176.0</td>\n",
       "      <td>sqft</td>\n",
       "    </tr>\n",
       "    <tr>\n",
       "      <th>327</th>\n",
       "      <td>321</td>\n",
       "      <td>125000.0</td>\n",
       "      <td>Meadowlands</td>\n",
       "      <td>Shadowmere</td>\n",
       "      <td>895.0</td>\n",
       "      <td>10880.0</td>\n",
       "      <td>sqft</td>\n",
       "    </tr>\n",
       "    <tr>\n",
       "      <th>333</th>\n",
       "      <td>326</td>\n",
       "      <td>78000.0</td>\n",
       "      <td>GnomeBurough</td>\n",
       "      <td>Petalbridge</td>\n",
       "      <td>691.0</td>\n",
       "      <td>6756.0</td>\n",
       "      <td>sqft</td>\n",
       "    </tr>\n",
       "    <tr>\n",
       "      <th>476</th>\n",
       "      <td>468</td>\n",
       "      <td>148500.0</td>\n",
       "      <td>Meadowlands</td>\n",
       "      <td>Dragonspire</td>\n",
       "      <td>NaN</td>\n",
       "      <td>8750.0</td>\n",
       "      <td>sqft</td>\n",
       "    </tr>\n",
       "    <tr>\n",
       "      <th>484</th>\n",
       "      <td>475</td>\n",
       "      <td>100000.0</td>\n",
       "      <td>GnomeBurough</td>\n",
       "      <td>Starfall</td>\n",
       "      <td>759.0</td>\n",
       "      <td>1680.0</td>\n",
       "      <td>sqft</td>\n",
       "    </tr>\n",
       "    <tr>\n",
       "      <th>522</th>\n",
       "      <td>512</td>\n",
       "      <td>113000.0</td>\n",
       "      <td>GnomeBurough</td>\n",
       "      <td>Stormwatch</td>\n",
       "      <td>806.0</td>\n",
       "      <td>6380.0</td>\n",
       "      <td>sqft</td>\n",
       "    </tr>\n",
       "    <tr>\n",
       "      <th>660</th>\n",
       "      <td>649</td>\n",
       "      <td>262500.0</td>\n",
       "      <td>Meadowlands</td>\n",
       "      <td>Nighthaven</td>\n",
       "      <td>1658.0</td>\n",
       "      <td>20781.0</td>\n",
       "      <td>sqft</td>\n",
       "    </tr>\n",
       "    <tr>\n",
       "      <th>744</th>\n",
       "      <td>732</td>\n",
       "      <td>164900.0</td>\n",
       "      <td>Meadowlands</td>\n",
       "      <td>Dragonspire</td>\n",
       "      <td>1048.0</td>\n",
       "      <td>14559.0</td>\n",
       "      <td>sqft</td>\n",
       "    </tr>\n",
       "    <tr>\n",
       "      <th>1327</th>\n",
       "      <td>1314</td>\n",
       "      <td>115000.0</td>\n",
       "      <td>Meadowlands</td>\n",
       "      <td>Dragonspire</td>\n",
       "      <td>1184.0</td>\n",
       "      <td>7150.0</td>\n",
       "      <td>sqft</td>\n",
       "    </tr>\n",
       "    <tr>\n",
       "      <th>1445</th>\n",
       "      <td>1431</td>\n",
       "      <td>165000.0</td>\n",
       "      <td>Meadowlands</td>\n",
       "      <td>Duskwood</td>\n",
       "      <td>1130.0</td>\n",
       "      <td>8139.0</td>\n",
       "      <td>sqft</td>\n",
       "    </tr>\n",
       "    <tr>\n",
       "      <th>1814</th>\n",
       "      <td>1799</td>\n",
       "      <td>265000.0</td>\n",
       "      <td>Meadowlands</td>\n",
       "      <td>Glimmerwood</td>\n",
       "      <td>1803.0</td>\n",
       "      <td>10208.0</td>\n",
       "      <td>sqft</td>\n",
       "    </tr>\n",
       "    <tr>\n",
       "      <th>1821</th>\n",
       "      <td>1805</td>\n",
       "      <td>168500.0</td>\n",
       "      <td>Meadowlands</td>\n",
       "      <td>Duskwood</td>\n",
       "      <td>1133.0</td>\n",
       "      <td>8530.0</td>\n",
       "      <td>sqft</td>\n",
       "    </tr>\n",
       "    <tr>\n",
       "      <th>1838</th>\n",
       "      <td>1821</td>\n",
       "      <td>178000.0</td>\n",
       "      <td>Meadowlands</td>\n",
       "      <td>Duskwood</td>\n",
       "      <td>1208.0</td>\n",
       "      <td>7837.0</td>\n",
       "      <td>sqft</td>\n",
       "    </tr>\n",
       "    <tr>\n",
       "      <th>1952</th>\n",
       "      <td>1934</td>\n",
       "      <td>188000.0</td>\n",
       "      <td>Meadowlands</td>\n",
       "      <td>Sunspire</td>\n",
       "      <td>1326.0</td>\n",
       "      <td>8924.0</td>\n",
       "      <td>sqft</td>\n",
       "    </tr>\n",
       "    <tr>\n",
       "      <th>2044</th>\n",
       "      <td>2025</td>\n",
       "      <td>119500.0</td>\n",
       "      <td>Meadowlands</td>\n",
       "      <td>Dragonspire</td>\n",
       "      <td>730.0</td>\n",
       "      <td>9758.0</td>\n",
       "      <td>sqft</td>\n",
       "    </tr>\n",
       "    <tr>\n",
       "      <th>2087</th>\n",
       "      <td>2067</td>\n",
       "      <td>314813.0</td>\n",
       "      <td>Meadowlands</td>\n",
       "      <td>Silverglen</td>\n",
       "      <td>1406.0</td>\n",
       "      <td>11694.0</td>\n",
       "      <td>sqft</td>\n",
       "    </tr>\n",
       "    <tr>\n",
       "      <th>2150</th>\n",
       "      <td>2129</td>\n",
       "      <td>374000.0</td>\n",
       "      <td>Meadowlands</td>\n",
       "      <td>Silverglen</td>\n",
       "      <td>1378.0</td>\n",
       "      <td>11846.0</td>\n",
       "      <td>sqft</td>\n",
       "    </tr>\n",
       "    <tr>\n",
       "      <th>2338</th>\n",
       "      <td>2316</td>\n",
       "      <td>192000.0</td>\n",
       "      <td>Meadowlands</td>\n",
       "      <td>Duskwood</td>\n",
       "      <td>1259.0</td>\n",
       "      <td>9042.0</td>\n",
       "      <td>sqft</td>\n",
       "    </tr>\n",
       "    <tr>\n",
       "      <th>2341</th>\n",
       "      <td>2318</td>\n",
       "      <td>141500.0</td>\n",
       "      <td>Meadowlands</td>\n",
       "      <td>Thornfield</td>\n",
       "      <td>1104.0</td>\n",
       "      <td>6720.0</td>\n",
       "      <td>sqft</td>\n",
       "    </tr>\n",
       "  </tbody>\n",
       "</table>\n",
       "</div>"
      ],
      "text/plain": [
       "        DI  TradeValue     RealmType      Enclave  LivingQuarters  ParcelSize  \\\n",
       "64      63    189000.0   Meadowlands  Brightforge          1419.0     11218.0   \n",
       "152    150    260000.0   AetherIsles  Wyverncliff          1144.0      4835.0   \n",
       "155    152    246000.0   Meadowlands   Thornfield          1266.0      3811.0   \n",
       "217    213    142000.0   Meadowlands  Dragonspire           887.0     11556.0   \n",
       "264    259    171500.0   Meadowlands     Duskwood          1031.0     10176.0   \n",
       "327    321    125000.0   Meadowlands   Shadowmere           895.0     10880.0   \n",
       "333    326     78000.0  GnomeBurough  Petalbridge           691.0      6756.0   \n",
       "476    468    148500.0   Meadowlands  Dragonspire             NaN      8750.0   \n",
       "484    475    100000.0  GnomeBurough     Starfall           759.0      1680.0   \n",
       "522    512    113000.0  GnomeBurough   Stormwatch           806.0      6380.0   \n",
       "660    649    262500.0   Meadowlands   Nighthaven          1658.0     20781.0   \n",
       "744    732    164900.0   Meadowlands  Dragonspire          1048.0     14559.0   \n",
       "1327  1314    115000.0   Meadowlands  Dragonspire          1184.0      7150.0   \n",
       "1445  1431    165000.0   Meadowlands     Duskwood          1130.0      8139.0   \n",
       "1814  1799    265000.0   Meadowlands  Glimmerwood          1803.0     10208.0   \n",
       "1821  1805    168500.0   Meadowlands     Duskwood          1133.0      8530.0   \n",
       "1838  1821    178000.0   Meadowlands     Duskwood          1208.0      7837.0   \n",
       "1952  1934    188000.0   Meadowlands     Sunspire          1326.0      8924.0   \n",
       "2044  2025    119500.0   Meadowlands  Dragonspire           730.0      9758.0   \n",
       "2087  2067    314813.0   Meadowlands   Silverglen          1406.0     11694.0   \n",
       "2150  2129    374000.0   Meadowlands   Silverglen          1378.0     11846.0   \n",
       "2338  2316    192000.0   Meadowlands     Duskwood          1259.0      9042.0   \n",
       "2341  2318    141500.0   Meadowlands   Thornfield          1104.0      6720.0   \n",
       "\n",
       "     ParcelSizeUnit  \n",
       "64             sqft  \n",
       "152            sqft  \n",
       "155            sqft  \n",
       "217            sqft  \n",
       "264            sqft  \n",
       "327            sqft  \n",
       "333            sqft  \n",
       "476            sqft  \n",
       "484            sqft  \n",
       "522            sqft  \n",
       "660            sqft  \n",
       "744            sqft  \n",
       "1327           sqft  \n",
       "1445           sqft  \n",
       "1814           sqft  \n",
       "1821           sqft  \n",
       "1838           sqft  \n",
       "1952           sqft  \n",
       "2044           sqft  \n",
       "2087           sqft  \n",
       "2150           sqft  \n",
       "2338           sqft  \n",
       "2341           sqft  "
      ]
     },
     "execution_count": 29,
     "metadata": {},
     "output_type": "execute_result"
    }
   ],
   "source": [
    "df[df.duplicated()]"
   ]
  },
  {
   "cell_type": "markdown",
   "id": "487d07acd1a48c67",
   "metadata": {},
   "source": [
    "This cell counts up how many duplicates are in the dataset."
   ]
  },
  {
   "cell_type": "code",
   "execution_count": null,
   "id": "24b902077dbb8c17",
   "metadata": {
    "ExecuteTime": {
     "end_time": "2025-02-17T12:30:01.469921Z",
     "start_time": "2025-02-17T12:30:01.461385Z"
    }
   },
   "outputs": [
    {
     "data": {
      "text/plain": [
       "np.int64(23)"
      ]
     },
     "execution_count": 30,
     "metadata": {},
     "output_type": "execute_result"
    }
   ],
   "source": [
    "s= df.duplicated()\n",
    "s.sum()                 #Do not forget to add \"()\" as otherwise it would give you the booleans."
   ]
  },
  {
   "cell_type": "markdown",
   "id": "3a5fc16cea98a625",
   "metadata": {},
   "source": [
    "<h3>Taking out the duplicate data"
   ]
  },
  {
   "cell_type": "markdown",
   "id": "40b6609259cc3a58",
   "metadata": {},
   "source": [
    "This cell drops every duplicate entry as well as check if there are any duplicates are left."
   ]
  },
  {
   "cell_type": "code",
   "execution_count": null,
   "id": "c9a5900b1583aa05",
   "metadata": {
    "ExecuteTime": {
     "end_time": "2025-02-17T12:30:01.538491Z",
     "start_time": "2025-02-17T12:30:01.531952Z"
    }
   },
   "outputs": [],
   "source": [
    "df=df.drop_duplicates()"
   ]
  },
  {
   "cell_type": "markdown",
   "id": "2f1195389aab0751",
   "metadata": {},
   "source": [
    " <h1>Living quarters #TODO: FIND OUT HOW TO FIX THE NULL"
   ]
  },
  {
   "cell_type": "markdown",
   "id": "4b462adf6069501b",
   "metadata": {},
   "source": [
    "<h3>Whatever you do (delete or populate) have reasoning behind it!!"
   ]
  },
  {
   "cell_type": "markdown",
   "id": "21d693b43b91cc17",
   "metadata": {},
   "source": [
    "<h1>Parcel size unit"
   ]
  },
  {
   "cell_type": "markdown",
   "id": "5cb9e0c39da71951",
   "metadata": {},
   "source": [
    "<h3> Different types of unit sizes"
   ]
  },
  {
   "cell_type": "markdown",
   "id": "9c5e645d051e44cd",
   "metadata": {},
   "source": [
    "The first thing to do is to check if there are different types of unit sizes and how many counts there are of each."
   ]
  },
  {
   "cell_type": "code",
   "execution_count": null,
   "id": "b8e1107845245266",
   "metadata": {
    "ExecuteTime": {
     "end_time": "2025-02-17T12:30:01.623729Z",
     "start_time": "2025-02-17T12:30:01.618170Z"
    }
   },
   "outputs": [
    {
     "name": "stdout",
     "output_type": "stream",
     "text": [
      "['sqft' 'sqm']\n",
      "Occurrences of 'sqm': 23\n"
     ]
    }
   ],
   "source": [
    "unique_PSU= df[\"ParcelSizeUnit\"].unique()\n",
    "print(unique_PSU)\n",
    "\n",
    "count_sqm= df['ParcelSizeUnit'].value_counts().get('sqm', 0)\n",
    "print(\"Occurrences of 'sqm':\", count_sqm)\n"
   ]
  },
  {
   "cell_type": "markdown",
   "id": "8b239dd7b0eb70a4",
   "metadata": {},
   "source": [
    "As can be seen there are two different types of Parcel size unit and sqft is the most common one used. Now lets take a sample to look if anything interesting differs between sqm and sqft."
   ]
  },
  {
   "cell_type": "code",
   "execution_count": null,
   "id": "b0df3e96c94548e6",
   "metadata": {
    "ExecuteTime": {
     "end_time": "2025-02-17T12:30:01.682969Z",
     "start_time": "2025-02-17T12:30:01.672403Z"
    }
   },
   "outputs": [
    {
     "name": "stdout",
     "output_type": "stream",
     "text": [
      "+-------------+----------------+\n",
      "| ParcelSize  | ParcelSizeUnit |\n",
      "+-------------+----------------+\n",
      "|   0.13108   |      sqft      |\n",
      "|  766.44975  |      sqm       |\n",
      "| 1001.865952 |      sqm       |\n",
      "|   0.05805   |      sqft      |\n",
      "| 840.307635  |      sqm       |\n",
      "|  629.88234  |      sqm       |\n",
      "|    0.072    |      sqft      |\n",
      "| 762.919436  |      sqm       |\n",
      "|   0.07406   |      sqft      |\n",
      "| 624.122354  |      sqm       |\n",
      "|  929.95903  |      sqm       |\n",
      "| 982.263419  |      sqm       |\n",
      "| 1212.38415  |      sqm       |\n",
      "|   0.10331   |      sqft      |\n",
      "| 979.847941  |      sqm       |\n",
      "|   0.10141   |      sqft      |\n",
      "|   0.09457   |      sqft      |\n",
      "| 1512.925355 |      sqm       |\n",
      "|   0.08246   |      sqft      |\n",
      "| 765.427817  |      sqm       |\n",
      "| 771.466512  |      sqm       |\n",
      "| 1256.605978 |      sqm       |\n",
      "|  668.9016   |      sqm       |\n",
      "|  966.1912   |      sqm       |\n",
      "|  969.90732  |      sqm       |\n",
      "| 1273.142712 |      sqm       |\n",
      "|   0.07207   |      sqft      |\n",
      "|   0.08248   |      sqft      |\n",
      "| 1058.536782 |      sqm       |\n",
      "|   0.1365    |      sqft      |\n",
      "| 1024.627187 |      sqm       |\n",
      "|   836.127   |      sqm       |\n",
      "| 544.225774  |      sqm       |\n",
      "|  813.83028  |      sqm       |\n",
      "+-------------+----------------+\n"
     ]
    }
   ],
   "source": [
    "from tabulate import tabulate\n",
    "\n",
    "def display_parcel_sizes_with_decimals(df, parcel_size, parcel_unit):\n",
    "\n",
    "    filtered_df = df[df[parcel_size].apply(lambda x: isinstance(x, (int, float)) and round(x, 2) != x)]\n",
    "\n",
    "    if not filtered_df.empty:\n",
    "        table_data = filtered_df[[parcel_size, parcel_unit]].values.tolist()\n",
    "        print(tabulate(table_data, headers=[parcel_size, parcel_unit], tablefmt='pretty', showindex=False))\n",
    "    else:\n",
    "        print(\"No parcels found with more than two decimal places.\")\n",
    "\n",
    "# Example usage\n",
    "display_parcel_sizes_with_decimals(df, \"ParcelSize\", \"ParcelSizeUnit\")\n"
   ]
  },
  {
   "cell_type": "markdown",
   "id": "4f4cc9e714422fa8",
   "metadata": {},
   "source": [
    "<h1>Reset index"
   ]
  },
  {
   "cell_type": "markdown",
   "id": "7e500de95a987c25",
   "metadata": {},
   "source": [
    "When you add or delete rows the index may not be up to date anymore. When this happens you can use this function to reset the index."
   ]
  },
  {
   "cell_type": "code",
   "execution_count": null,
   "id": "c40262578be973a",
   "metadata": {
    "ExecuteTime": {
     "end_time": "2025-02-17T12:30:01.724960Z",
     "start_time": "2025-02-17T12:30:01.715321Z"
    }
   },
   "outputs": [
    {
     "name": "stdout",
     "output_type": "stream",
     "text": [
      "<class 'pandas.core.frame.DataFrame'>\n",
      "RangeIndex: 2340 entries, 0 to 2339\n",
      "Data columns (total 7 columns):\n",
      " #   Column          Non-Null Count  Dtype  \n",
      "---  ------          --------------  -----  \n",
      " 0   DI              2340 non-null   int64  \n",
      " 1   TradeValue      2340 non-null   float64\n",
      " 2   RealmType       2340 non-null   object \n",
      " 3   Enclave         2340 non-null   object \n",
      " 4   LivingQuarters  2223 non-null   float64\n",
      " 5   ParcelSize      2340 non-null   float64\n",
      " 6   ParcelSizeUnit  2340 non-null   object \n",
      "dtypes: float64(3), int64(1), object(3)\n",
      "memory usage: 128.1+ KB\n"
     ]
    }
   ],
   "source": [
    "df.reset_index(drop=True, inplace=True)\n",
    "df.info()"
   ]
  }
 ],
 "metadata": {
  "kernelspec": {
   "display_name": "Python 3 (ipykernel)",
   "language": "python",
   "name": "python3"
  },
  "language_info": {
   "codemirror_mode": {
    "name": "ipython",
    "version": 3
   },
   "file_extension": ".py",
   "mimetype": "text/x-python",
   "name": "python",
   "nbconvert_exporter": "python",
   "pygments_lexer": "ipython3",
   "version": "3.12.7"
  }
 },
 "nbformat": 5,
 "nbformat_minor": 9
}
