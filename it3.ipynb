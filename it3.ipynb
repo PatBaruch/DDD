{
 "cells": [
  {
   "cell_type": "markdown",
   "metadata": {},
   "source": [
    "# Step 1: Load and Explore the Data\n",
    "\n",
    "We begin by importing the necessary libraries, loading the dataset, and checking its structure and missing values.\n"
   ]
  },
  {
   "cell_type": "code",
   "execution_count": 8,
   "metadata": {},
   "outputs": [
    {
     "name": "stdout",
     "output_type": "stream",
     "text": [
      "Dataframe Info:\n",
      "<class 'pandas.core.frame.DataFrame'>\n",
      "RangeIndex: 15514 entries, 0 to 15513\n",
      "Data columns (total 10 columns):\n",
      " #   Column               Non-Null Count  Dtype  \n",
      "---  ------               --------------  -----  \n",
      " 0   DI                   15514 non-null  int64  \n",
      " 1   TradeValue           15514 non-null  float64\n",
      " 2   RealmType            15514 non-null  object \n",
      " 3   Enclave              15514 non-null  object \n",
      " 4   LivingQuarters       15514 non-null  float64\n",
      " 5   ParcelSize           15514 non-null  float64\n",
      " 6   ParcelSizeUnit       15514 non-null  object \n",
      " 7   StructuralIntegrity  15514 non-null  int64  \n",
      " 8   ExteriorCharm        15514 non-null  object \n",
      " 9   AffordableDwelling   15514 non-null  int64  \n",
      "dtypes: float64(3), int64(3), object(4)\n",
      "memory usage: 1.2+ MB\n",
      "None\n",
      "\n",
      "First 5 rows:\n",
      "   DI  TradeValue    RealmType      Enclave  LivingQuarters  ParcelSize  \\\n",
      "0   0    269500.0  Meadowlands  Brightforge          2143.0      7939.0   \n",
      "1   0    269500.0  Meadowlands  Brightforge          2143.0      7939.0   \n",
      "2   0    269500.0  Meadowlands  Brightforge          2143.0      7939.0   \n",
      "3   1    184900.0  Meadowlands  Brightforge           923.0     10083.0   \n",
      "4   1    184900.0  Meadowlands  Brightforge           923.0     10083.0   \n",
      "\n",
      "  ParcelSizeUnit  StructuralIntegrity ExteriorCharm  AffordableDwelling  \n",
      "0           sqft                    5        Common                   0  \n",
      "1           sqft                    5        Common                   0  \n",
      "2           sqft                    5        Common                   0  \n",
      "3           sqft                    5      Gleaming                   1  \n",
      "4           sqft                    5      Gleaming                   1  \n",
      "\n",
      "Missing values per column:\n",
      "DI                     0\n",
      "TradeValue             0\n",
      "RealmType              0\n",
      "Enclave                0\n",
      "LivingQuarters         0\n",
      "ParcelSize             0\n",
      "ParcelSizeUnit         0\n",
      "StructuralIntegrity    0\n",
      "ExteriorCharm          0\n",
      "AffordableDwelling     0\n",
      "dtype: int64\n"
     ]
    }
   ],
   "source": [
    "# Import necessary libraries\n",
    "import pandas as pd\n",
    "import numpy as np\n",
    "import matplotlib.pyplot as plt\n",
    "import seaborn as sns\n",
    "\n",
    "from sklearn.model_selection import train_test_split\n",
    "from sklearn.linear_model import LinearRegression\n",
    "from sklearn.metrics import mean_absolute_error, mean_squared_error\n",
    "\n",
    "# Load the dataset\n",
    "df = pd.read_csv('ifAffordable.csv')\n",
    "\n",
    "# Basic data overview\n",
    "print(\"Dataframe Info:\")\n",
    "print(df.info())\n",
    "\n",
    "print(\"\\nFirst 5 rows:\")\n",
    "print(df.head())\n",
    "\n",
    "# Remove duplicates\n",
    "df.drop_duplicates(inplace=True)\n",
    "\n",
    "# Check missing values\n",
    "print(\"\\nMissing values per column:\")\n",
    "print(df.isnull().sum())\n"
   ]
  },
  {
   "cell_type": "markdown",
   "metadata": {},
   "source": [
    "# Step 2: Encode Categorical Features\n",
    "\n",
    "We one-hot encode the categorical columns to prepare the data for modeling.\n"
   ]
  },
  {
   "cell_type": "code",
   "execution_count": 9,
   "metadata": {},
   "outputs": [
    {
     "name": "stdout",
     "output_type": "stream",
     "text": [
      "\n",
      "Columns after one-hot encoding:\n",
      "Index(['DI', 'TradeValue', 'LivingQuarters', 'ParcelSize',\n",
      "       'StructuralIntegrity', 'AffordableDwelling', 'RealmType_GnomeBurough',\n",
      "       'RealmType_Meadowlands', 'Enclave_Cloudrest', 'Enclave_Crystalhollow',\n",
      "       'Enclave_Dragonspire', 'Enclave_Dreamweaver', 'Enclave_Duskwood',\n",
      "       'Enclave_Emberfall', 'Enclave_Glimmerwood', 'Enclave_Moonglade',\n",
      "       'Enclave_Mossheart', 'Enclave_Mystvale', 'Enclave_Nighthaven',\n",
      "       'Enclave_Oakenshade', 'Enclave_Petalbridge', 'Enclave_Ravenstone',\n",
      "       'Enclave_Riverbend', 'Enclave_Shadowmere', 'Enclave_Silverglen',\n",
      "       'Enclave_Starfall', 'Enclave_Stormhold', 'Enclave_Stormwatch',\n",
      "       'Enclave_Sunspire', 'Enclave_Thornfield', 'Enclave_Verdantia',\n",
      "       'Enclave_Windwhisper', 'Enclave_Wolfsbane', 'Enclave_Wyverncliff',\n",
      "       'ExteriorCharm_Enchanting', 'ExteriorCharm_Gleaming',\n",
      "       'ExteriorCharm_Modest'],\n",
      "      dtype='object')\n"
     ]
    }
   ],
   "source": [
    "# One-hot encode categorical features\n",
    "categorical_features = ['RealmType', 'Enclave', 'ExteriorCharm', 'ParcelSizeUnit']\n",
    "df_encoded = pd.get_dummies(df, columns=categorical_features, drop_first=True)\n",
    "\n",
    "print(\"\\nColumns after one-hot encoding:\")\n",
    "print(df_encoded.columns)\n"
   ]
  },
  {
   "cell_type": "markdown",
   "metadata": {},
   "source": [
    "# Step 3: Select Features and Target\n",
    "\n",
    "We define our predictor variables and target (TradeValue). The identifier and affordability flag are excluded.\n"
   ]
  },
  {
   "cell_type": "code",
   "execution_count": 10,
   "metadata": {},
   "outputs": [
    {
     "name": "stdout",
     "output_type": "stream",
     "text": [
      "\n",
      "Selected Predictor Columns (first few rows):\n",
      "    LivingQuarters  ParcelSize  StructuralIntegrity  RealmType_GnomeBurough  \\\n",
      "0           2143.0      7939.0                    5                   False   \n",
      "3            923.0     10083.0                    5                   False   \n",
      "6            959.0      9439.0                    5                    True   \n",
      "10           798.0      3869.0                    6                   False   \n",
      "32          1172.0     11344.0                    5                   False   \n",
      "\n",
      "    RealmType_Meadowlands  Enclave_Cloudrest  Enclave_Crystalhollow  \\\n",
      "0                    True              False                  False   \n",
      "3                    True              False                  False   \n",
      "6                   False              False                  False   \n",
      "10                   True              False                  False   \n",
      "32                   True              False                  False   \n",
      "\n",
      "    Enclave_Dragonspire  Enclave_Dreamweaver  Enclave_Duskwood  ...  \\\n",
      "0                 False                False             False  ...   \n",
      "3                 False                False             False  ...   \n",
      "6                 False                False             False  ...   \n",
      "10                False                False             False  ...   \n",
      "32                 True                False             False  ...   \n",
      "\n",
      "    Enclave_Stormwatch  Enclave_Sunspire  Enclave_Thornfield  \\\n",
      "0                False             False               False   \n",
      "3                False             False               False   \n",
      "6                False             False               False   \n",
      "10               False             False               False   \n",
      "32               False             False               False   \n",
      "\n",
      "    Enclave_Verdantia  Enclave_Windwhisper  Enclave_Wolfsbane  \\\n",
      "0               False                False              False   \n",
      "3               False                False              False   \n",
      "6               False                False              False   \n",
      "10              False                False              False   \n",
      "32              False                False              False   \n",
      "\n",
      "    Enclave_Wyverncliff  ExteriorCharm_Enchanting  ExteriorCharm_Gleaming  \\\n",
      "0                 False                     False                   False   \n",
      "3                 False                     False                    True   \n",
      "6                 False                     False                   False   \n",
      "10                False                     False                    True   \n",
      "32                False                     False                   False   \n",
      "\n",
      "    ExteriorCharm_Modest  \n",
      "0                  False  \n",
      "3                  False  \n",
      "6                  False  \n",
      "10                 False  \n",
      "32                 False  \n",
      "\n",
      "[5 rows x 34 columns]\n"
     ]
    }
   ],
   "source": [
    "# Define predictors (X) and target variable (y)\n",
    "X = df_encoded.drop(columns=['DI', 'TradeValue', 'AffordableDwelling'])\n",
    "y = df_encoded['TradeValue']\n",
    "\n",
    "print(\"\\nSelected Predictor Columns (first few rows):\")\n",
    "print(X.head())\n"
   ]
  },
  {
   "cell_type": "markdown",
   "metadata": {},
   "source": [
    "# Step 4: Train the Linear Regression Model\n",
    "\n",
    "We split the data into training and testing sets and fit a linear regression model.\n"
   ]
  },
  {
   "cell_type": "code",
   "execution_count": 11,
   "metadata": {},
   "outputs": [],
   "source": [
    "# Train-test split\n",
    "X_train, X_test, y_train, y_test = train_test_split(X, y, test_size=0.2, random_state=42)\n",
    "\n",
    "# Train the model\n",
    "reg_model = LinearRegression()\n",
    "reg_model.fit(X_train, y_train)\n",
    "\n",
    "# Predict on test set\n",
    "y_pred = reg_model.predict(X_test)\n"
   ]
  },
  {
   "cell_type": "markdown",
   "metadata": {},
   "source": [
    "# Step 5: Evaluate the Model\n",
    "\n",
    "We evaluate the model using Mean Absolute Error (MAE) and Mean Squared Error (MSE).\n"
   ]
  },
  {
   "cell_type": "code",
   "execution_count": 12,
   "metadata": {},
   "outputs": [
    {
     "name": "stdout",
     "output_type": "stream",
     "text": [
      "\n",
      "Regression Model Evaluation:\n",
      "Mean Absolute Error (MAE): 27129.804221700837\n",
      "Mean Squared Error (MSE): 1794270658.6192174\n"
     ]
    }
   ],
   "source": [
    "mae = mean_absolute_error(y_test, y_pred)\n",
    "mse = mean_squared_error(y_test, y_pred)\n",
    "\n",
    "print(\"\\nRegression Model Evaluation:\")\n",
    "print(\"Mean Absolute Error (MAE):\", mae)\n",
    "print(\"Mean Squared Error (MSE):\", mse)\n"
   ]
  },
  {
   "cell_type": "markdown",
   "metadata": {},
   "source": [
    "# Step 6: Analyze Model Coefficients\n",
    "\n",
    "Let’s review the model coefficients to see how each feature influences predictions.\n"
   ]
  },
  {
   "cell_type": "code",
   "execution_count": 13,
   "metadata": {},
   "outputs": [
    {
     "name": "stdout",
     "output_type": "stream",
     "text": [
      "\n",
      "Model Coefficients:\n",
      "                     Feature    Coefficient\n",
      "0             LivingQuarters      70.977933\n",
      "1                 ParcelSize       0.919237\n",
      "2        StructuralIntegrity    6181.596726\n",
      "3     RealmType_GnomeBurough  -20372.297332\n",
      "4      RealmType_Meadowlands  -10756.162942\n",
      "5          Enclave_Cloudrest    -136.014616\n",
      "6      Enclave_Crystalhollow    7719.389734\n",
      "7        Enclave_Dragonspire   -4336.933448\n",
      "8        Enclave_Dreamweaver   27348.166139\n",
      "9           Enclave_Duskwood   11352.783877\n",
      "10         Enclave_Emberfall   -8355.609475\n",
      "11       Enclave_Glimmerwood   99242.958503\n",
      "12         Enclave_Moonglade   68676.581775\n",
      "13         Enclave_Mossheart   46783.330567\n",
      "14          Enclave_Mystvale  -31224.966146\n",
      "15        Enclave_Nighthaven   12238.828953\n",
      "16        Enclave_Oakenshade   21245.645028\n",
      "17       Enclave_Petalbridge  -25290.358511\n",
      "18        Enclave_Ravenstone   41305.279841\n",
      "19         Enclave_Riverbend   98698.650663\n",
      "20        Enclave_Shadowmere  -23223.250391\n",
      "21        Enclave_Silverglen   89487.923738\n",
      "22          Enclave_Starfall  -14784.334951\n",
      "23         Enclave_Stormhold  -29094.606478\n",
      "24        Enclave_Stormwatch  -13722.503151\n",
      "25          Enclave_Sunspire   24152.678074\n",
      "26        Enclave_Thornfield   18822.425090\n",
      "27         Enclave_Verdantia   24424.700330\n",
      "28       Enclave_Windwhisper   17965.891232\n",
      "29         Enclave_Wolfsbane  -25272.361376\n",
      "30       Enclave_Wyverncliff   31128.460273\n",
      "31  ExteriorCharm_Enchanting  109011.535468\n",
      "32    ExteriorCharm_Gleaming   27609.508167\n",
      "33      ExteriorCharm_Modest  -12878.275909\n"
     ]
    }
   ],
   "source": [
    "# Show model coefficients\n",
    "coef_df = pd.DataFrame({\n",
    "    'Feature': X.columns,\n",
    "    'Coefficient': reg_model.coef_\n",
    "})\n",
    "print(\"\\nModel Coefficients:\")\n",
    "print(coef_df)\n"
   ]
  },
  {
   "cell_type": "markdown",
   "metadata": {},
   "source": [
    "# Step 7: Visualize Predictions\n",
    "\n",
    "We plot actual vs. predicted TradeValue to visually assess model performance.\n"
   ]
  },
  {
   "cell_type": "code",
   "execution_count": 14,
   "metadata": {},
   "outputs": [
    {
     "data": {
      "image/png": "[encoded data removed]",
      "text/plain": [
       "<Figure size 800x600 with 1 Axes>"
      ]
     },
     "metadata": {},
     "output_type": "display_data"
    }
   ],
   "source": [
    "# Scatter plot of actual vs predicted values\n",
    "plt.figure(figsize=(8, 6))\n",
    "sns.scatterplot(x=y_test, y=y_pred)\n",
    "plt.xlabel(\"Actual TradeValue\")\n",
    "plt.ylabel(\"Predicted TradeValue\")\n",
    "plt.title(\"Actual vs. Predicted TradeValue\")\n",
    "plt.show()\n"
   ]
  }
 ],
 "metadata": {
  "kernelspec": {
   "display_name": "Python [conda env:base] *",
   "language": "python",
   "name": "conda-base-py"
  },
  "language_info": {
   "codemirror_mode": {
    "name": "ipython",
    "version": 3
   },
   "file_extension": ".py",
   "mimetype": "text/x-python",
   "name": "python",
   "nbconvert_exporter": "python",
   "pygments_lexer": "ipython3",
   "version": "3.12.7"
  }
 },
 "nbformat": 4,
 "nbformat_minor": 2
}
